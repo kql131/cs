{
  "nbformat": 4,
  "nbformat_minor": 0,
  "metadata": {
    "colab": {
      "name": "Testing.ipynb",
      "provenance": [],
      "collapsed_sections": [],
      "authorship_tag": "ABX9TyMp39EXmb1l91DrFpD2NLPi",
      "include_colab_link": true
    },
    "kernelspec": {
      "name": "python3",
      "display_name": "Python 3"
    }
  },
  "cells": [
    {
      "cell_type": "markdown",
      "metadata": {
        "id": "view-in-github",
        "colab_type": "text"
      },
      "source": [
        "<a href=\"https://colab.research.google.com/github/kql131/cs/blob/master/Testing.ipynb\" target=\"_parent\"><img src=\"https://colab.research.google.com/assets/colab-badge.svg\" alt=\"Open In Colab\"/></a>"
      ]
    },
    {
      "cell_type": "code",
      "metadata": {
        "id": "zPWqCVt8CRyv",
        "colab_type": "code",
        "colab": {
          "base_uri": "https://localhost:8080/",
          "height": 68
        },
        "outputId": "1949586a-f677-43d5-e4c5-0e11eb5ef9d9"
      },
      "source": [
        "\"\"\"\n",
        "Find the median of an array of any size.\n",
        "- median of a odd array is the middle number of a sorted array\n",
        "- median of a even array is average of middle 2 number of sorted array\n",
        "\n",
        "\"\"\"\n",
        "def test(expected, actual):\n",
        "  if expected == actual: \n",
        "    print(\"OK\")\n",
        "  else:\n",
        "    print(\"ERROR: expected: {}, actual: {}\".format(expected, actual))\n",
        "\n",
        "def get_median(my_array):\n",
        "  length_of_array = len(my_array)\n",
        "  if length_of_array < 1: \n",
        "    return 0\n",
        "  my_array = sorted(my_array)\n",
        "  # even array\n",
        "  if length_of_array % 2 == 0:\n",
        "    middle_index = int(length_of_array/2)\n",
        "    return (my_array[middle_index-1] + my_array[middle_index]) / 2.0\n",
        "  # odd array\n",
        "  else:\n",
        "    middle_index = int((length_of_array - 1) / 2)\n",
        "    return my_array[middle_index]\n",
        "\n",
        "# Tests\n",
        "odd_array = [4, 3, 1, 5, 1]\n",
        "even_array = [3, 2, 1, 4]\n",
        "empty_array = []\n",
        "test(get_median(odd_array), 3)\n",
        "test(get_median(even_array),2.5)\n",
        "test(get_median(empty_array), 0)\n"
      ],
      "execution_count": 45,
      "outputs": [
        {
          "output_type": "stream",
          "text": [
            "OK\n",
            "OK\n",
            "OK\n"
          ],
          "name": "stdout"
        }
      ]
    },
    {
      "cell_type": "code",
      "metadata": {
        "id": "Lxx47U4l8I-v",
        "colab_type": "code",
        "colab": {}
      },
      "source": [
        ""
      ],
      "execution_count": 0,
      "outputs": []
    }
  ]
}